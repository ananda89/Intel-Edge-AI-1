{
 "cells": [
  {
   "cell_type": "code",
   "execution_count": 5,
   "metadata": {},
   "outputs": [],
   "source": [
    "# Imports\n",
    "import numpy as np\n",
    "import os\n",
    "\n",
    "import tensorflow as tf\n",
    "\n",
    "import cv2\n",
    "import time\n",
    "import matplotlib.pyplot as plt\n",
    "%matplotlib inline"
   ]
  },
  {
   "cell_type": "code",
   "execution_count": 6,
   "metadata": {},
   "outputs": [],
   "source": [
    "# Playing the Video from file\n",
    "captured = cv2.VideoCapture('resources/Pedestrian_Detect_2_1_1.mp4')"
   ]
  },
  {
   "cell_type": "code",
   "execution_count": 7,
   "metadata": {},
   "outputs": [],
   "source": [
    "# Function to load the tensorflow model\n",
    "def load_model(model_dir):\n",
    "    model_loc = os.path.join(model_dir, \"saved_model\")\n",
    "    model = tf.saved_model.load(str(model_loc))\n",
    "    model = model.signatures['serving_default']\n",
    "    \n",
    "    return model"
   ]
  },
  {
   "cell_type": "code",
   "execution_count": 8,
   "metadata": {},
   "outputs": [
    {
     "name": "stdout",
     "output_type": "stream",
     "text": [
      "INFO:tensorflow:Saver not created because there are no variables in the graph to restore\n"
     ]
    },
    {
     "name": "stderr",
     "output_type": "stream",
     "text": [
      "INFO:tensorflow:Saver not created because there are no variables in the graph to restore\n"
     ]
    }
   ],
   "source": [
    "# Loading the model\n",
    "model_dir_name = 'faster_rcnn_inception_v2_coco_2018_01_28'\n",
    "detection_model = load_model(model_dir_name)"
   ]
  },
  {
   "cell_type": "code",
   "execution_count": 9,
   "metadata": {},
   "outputs": [
    {
     "name": "stdout",
     "output_type": "stream",
     "text": [
      "[<tf.Tensor 'image_tensor:0' shape=(None, None, None, 3) dtype=uint8>]\n"
     ]
    }
   ],
   "source": [
    "count = 0\n",
    "total_time = 0\n",
    "print(detection_model.inputs)"
   ]
  },
  {
   "cell_type": "code",
   "execution_count": 10,
   "metadata": {},
   "outputs": [
    {
     "data": {
      "text/plain": [
       "{'detection_boxes': tf.float32,\n",
       " 'detection_classes': tf.float32,\n",
       " 'detection_scores': tf.float32,\n",
       " 'num_detections': tf.float32}"
      ]
     },
     "execution_count": 10,
     "metadata": {},
     "output_type": "execute_result"
    }
   ],
   "source": [
    "detection_model.output_dtypes"
   ]
  },
  {
   "cell_type": "code",
   "execution_count": 11,
   "metadata": {},
   "outputs": [
    {
     "data": {
      "text/plain": [
       "{'detection_boxes': TensorShape([None, 100, 4]),\n",
       " 'detection_classes': TensorShape([None, 100]),\n",
       " 'detection_scores': TensorShape([None, 100]),\n",
       " 'num_detections': TensorShape([None])}"
      ]
     },
     "execution_count": 11,
     "metadata": {},
     "output_type": "execute_result"
    }
   ],
   "source": [
    "# Dimensions of the outputted objects\n",
    "detection_model.output_shapes"
   ]
  },
  {
   "cell_type": "code",
   "execution_count": 12,
   "metadata": {},
   "outputs": [],
   "source": [
    "def run_inference(model, image):\n",
    "    image = np.asarray(image)\n",
    "    # The input needs to be a tensor, convert it using `tf.convert_to_tensor`.\n",
    "    input_tensor = tf.convert_to_tensor(image)\n",
    "    # The model expects a batch of images, so add an axis with `tf.newaxis`.\n",
    "    input_tensor = input_tensor[tf.newaxis,...]\n",
    "\n",
    "    # Run inference\n",
    "    output_dict = model(input_tensor)\n",
    "\n",
    "    # All outputs are batches tensors.\n",
    "    # Convert to numpy arrays, and take index [0] to remove the batch dimension.\n",
    "    # We're only interested in the first num_detections.\n",
    "    num_detections = int(output_dict.pop('num_detections'))\n",
    "    output_dict = {key:value[0, :num_detections].numpy() \n",
    "                 for key,value in output_dict.items()}\n",
    "    output_dict['num_detections'] = num_detections\n",
    "\n",
    "    # detection_classes should be ints.\n",
    "    output_dict['detection_classes'] = output_dict['detection_classes'].astype(np.int64)\n",
    "    \n",
    "    return output_dict"
   ]
  },
  {
   "cell_type": "code",
   "execution_count": 9,
   "metadata": {},
   "outputs": [
    {
     "name": "stdout",
     "output_type": "stream",
     "text": [
      "Started video inference....\n",
      "Total Frame processed: 1394\n",
      "Average Inference time per frame: 754.066ms\n",
      "Inference time: 1051167.981ms\n"
     ]
    }
   ],
   "source": [
    "# Grab the shape of the input \n",
    "width = int(captured.get(3))\n",
    "height = int(captured.get(4))\n",
    "HEIGHT = 600\n",
    "WIDTH = 1024\n",
    "print(\"Started video inference....\")\n",
    "total_inf_start = time.time()\n",
    "while(captured.isOpened()):\n",
    "    # Capture frame-by-frame\n",
    "    ret, frame = captured.read()\n",
    "    if not ret:\n",
    "        break\n",
    "    image = cv2.resize(frame, (HEIGHT, WIDTH))\n",
    "    # Actual inference.    \n",
    "    # Start asynchronous inference for specified request.\n",
    "    frame_inf_start = time.perf_counter()\n",
    "    output_dict = run_inference(detection_model, image)\n",
    "    frame_det_time = time.perf_counter() - frame_inf_start\n",
    "    inf_time_message = \"Inference time: {:.3f}ms\"\\\n",
    "                               .format(frame_det_time*1000)\n",
    "    count += 1\n",
    "\n",
    "# When everything done, release the video capture and video write objects\n",
    "captured.release()\n",
    "\n",
    "\n",
    "# Closes all the frames\n",
    "cv2.destroyAllWindows()    \n",
    "print(\"Total Frame processed:\",count)\n",
    "total_det_time = time.time() - total_inf_start\n",
    "print(\"Average Inference time per frame: {:.3f}ms\".format((total_det_time*1000)/count))\n",
    "total_inf_time_message = \"Inference time: {:.3f}ms\"\\\n",
    "                               .format(total_det_time * 1000)\n",
    "print(total_inf_time_message)"
   ]
  },
  {
   "cell_type": "code",
   "execution_count": null,
   "metadata": {},
   "outputs": [],
   "source": []
  }
 ],
 "metadata": {
  "kernelspec": {
   "display_name": "Python 3",
   "language": "python",
   "name": "python3"
  },
  "language_info": {
   "codemirror_mode": {
    "name": "ipython",
    "version": 3
   },
   "file_extension": ".py",
   "mimetype": "text/x-python",
   "name": "python",
   "nbconvert_exporter": "python",
   "pygments_lexer": "ipython3",
   "version": "3.5.6"
  }
 },
 "nbformat": 4,
 "nbformat_minor": 4
}
